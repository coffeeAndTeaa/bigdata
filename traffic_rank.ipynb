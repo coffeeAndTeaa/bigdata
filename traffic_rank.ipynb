{
 "cells": [
  {
   "cell_type": "code",
   "execution_count": 142,
   "id": "0ffb11ba",
   "metadata": {},
   "outputs": [],
   "source": [
    "from scipy.sparse import coo_matrix\n",
    "# import numpy\n",
    "import numpy as np\n",
    "import pandas as pd"
   ]
  },
  {
   "cell_type": "code",
   "execution_count": 143,
   "id": "84f561ba",
   "metadata": {},
   "outputs": [
    {
     "name": "stdout",
     "output_type": "stream",
     "text": [
      "      pickup_community_area  dropoff_community_area  trips\n",
      "0                      14.0                      19   2107\n",
      "1                      14.0                      24   5370\n",
      "2                      29.0                      29   2759\n",
      "3                      29.0                      25    313\n",
      "4                      41.0                      44   1693\n",
      "...                     ...                     ...    ...\n",
      "5412                   14.0                      55      1\n",
      "5413                   10.0                      65      3\n",
      "5414                   49.0                      59      2\n",
      "5416                   20.0                      74      1\n",
      "5417                   65.0                      12      1\n",
      "\n",
      "[5400 rows x 3 columns]\n"
     ]
    }
   ],
   "source": [
    "# get data from the csv file\n",
    "df = pd.read_csv(\"chicago-taxi-rides.csv\")\n",
    "# throw away the value we don't need\n",
    "df = df.dropna()\n",
    "print(df)"
   ]
  },
  {
   "cell_type": "code",
   "execution_count": 144,
   "id": "61910c4c",
   "metadata": {},
   "outputs": [],
   "source": [
    "dropoff = df[\"dropoff_community_area\"] - 1\n",
    "pickup = df[\"pickup_community_area\"] - 1\n",
    "trips = df[\"trips\"]"
   ]
  },
  {
   "cell_type": "code",
   "execution_count": 159,
   "id": "6f4b87dd",
   "metadata": {},
   "outputs": [
    {
     "name": "stdout",
     "output_type": "stream",
     "text": [
      "[[110697  28110  41575 ...      2  35848  69417]\n",
      " [ 40535 169484  22064 ...      3  30926  44670]\n",
      " [ 25228  12978 378179 ...     13  75845 122363]\n",
      " ...\n",
      " [     5      6     16 ...    635    458     10]\n",
      " [ 13054  10569  39343 ...     53 590584  35950]\n",
      " [ 46960  29593 118773 ...      6  71246 277895]]\n",
      "2107\n"
     ]
    }
   ],
   "source": [
    "initial_matrix = coo_matrix((trips, (dropoff, pickup)), shape=(77, 77)).toarray()\n",
    "print(initial_matrix)\n",
    "print(initial_matrix[18, 13])"
   ]
  },
  {
   "cell_type": "code",
   "execution_count": 160,
   "id": "5b8fc43d",
   "metadata": {},
   "outputs": [
    {
     "name": "stdout",
     "output_type": "stream",
     "text": [
      "[  352130   339222  1612969   465781   637470  6698452  5392832 31595960\n",
      "     2544    46973   115699    20281    54122   206464    74562   374130\n",
      "    14242     3339    25973    14082   277587  1161322    41231  3511650\n",
      "    24724     4560    14348  8328473    11730    14266    91604 21129643\n",
      "  2169837   104766   122920    12542     4870    29620   106507     9656\n",
      "   359946    32899    31870    20357     4107     6580      869     5391\n",
      "    15206     1421     3415      664     2128      378      560  1449419\n",
      "     6393    13873    80216    38481    12868     5713     4217     8160\n",
      "     4080     5631     5370     8599    13683     5553     6651     2006\n",
      "     3461      439     1866  4683744  1039936]\n",
      "(77,)\n",
      "<class 'numpy.ndarray'>\n"
     ]
    }
   ],
   "source": [
    "# row_sums = initial_matrix.sum(axis = 1).T\n",
    "row_sums = initial_matrix.sum(axis = 0)\n",
    "# t = row_sums\n",
    "# for i in range(76):\n",
    "#     row_sums = np.vstack((row_sums, t))\n",
    "# row_sums = row_sums.T\n",
    "print(row_sums)\n",
    "print(np.shape(row_sums))\n",
    "print(type(row_sums))"
   ]
  },
  {
   "cell_type": "code",
   "execution_count": 161,
   "id": "b3c95cff",
   "metadata": {},
   "outputs": [
    {
     "name": "stdout",
     "output_type": "stream",
     "text": [
      "[[3.14364013e-01 8.28660877e-02 2.57754489e-02 ... 1.07181136e-03\n",
      "  7.65370609e-03 6.67512232e-02]\n",
      " [1.15113736e-01 4.99625614e-01 1.36791222e-02 ... 1.60771704e-03\n",
      "  6.60283739e-03 4.29545664e-02]\n",
      " [7.16439951e-02 3.82581318e-02 2.34461419e-01 ... 6.96677385e-03\n",
      "  1.61932420e-02 1.17663972e-01]\n",
      " ...\n",
      " [1.41993014e-05 1.76875321e-05 9.91959548e-06 ... 3.40300107e-01\n",
      "  9.77850198e-05 9.61597637e-06]\n",
      " [3.70715361e-02 3.11565877e-02 2.43916653e-02 ... 2.84030011e-02\n",
      "  1.26092289e-01 3.45694350e-02]\n",
      " [1.33359839e-01 8.72378560e-02 7.36362571e-02 ... 3.21543408e-03\n",
      "  1.52113352e-02 2.67223175e-01]]\n"
     ]
    }
   ],
   "source": [
    "initial_matrix = initial_matrix / row_sums\n",
    "print(initial_matrix)"
   ]
  },
  {
   "cell_type": "code",
   "execution_count": 162,
   "id": "cec79a76",
   "metadata": {},
   "outputs": [
    {
     "data": {
      "text/plain": [
       "0.08286608769478394"
      ]
     },
     "execution_count": 162,
     "metadata": {},
     "output_type": "execute_result"
    }
   ],
   "source": [
    "28110 / 339222  "
   ]
  },
  {
   "cell_type": "code",
   "execution_count": 163,
   "id": "c7d63d69",
   "metadata": {},
   "outputs": [
    {
     "name": "stdout",
     "output_type": "stream",
     "text": [
      "[[0.2 0.4]\n",
      " [1.5 2. ]]\n"
     ]
    }
   ],
   "source": [
    "a = np.mat([[1, 2], [3, 4]])\n",
    "b = np.mat([5\n",
    "            , 2]).T\n",
    "print(a / b)"
   ]
  },
  {
   "cell_type": "code",
   "execution_count": 164,
   "id": "0b217f6d",
   "metadata": {},
   "outputs": [
    {
     "name": "stdout",
     "output_type": "stream",
     "text": [
      "[[0.00194805 0.00194805 0.00194805 ... 0.00194805 0.00194805 0.00194805]\n",
      " [0.00194805 0.00194805 0.00194805 ... 0.00194805 0.00194805 0.00194805]\n",
      " [0.00194805 0.00194805 0.00194805 ... 0.00194805 0.00194805 0.00194805]\n",
      " ...\n",
      " [0.00194805 0.00194805 0.00194805 ... 0.00194805 0.00194805 0.00194805]\n",
      " [0.00194805 0.00194805 0.00194805 ... 0.00194805 0.00194805 0.00194805]\n",
      " [0.00194805 0.00194805 0.00194805 ... 0.00194805 0.00194805 0.00194805]]\n"
     ]
    }
   ],
   "source": [
    "bias_matrix = np.full((77, 77), 1/77) * (1 - 0.85)\n",
    "print(bias_matrix)"
   ]
  },
  {
   "cell_type": "code",
   "execution_count": 165,
   "id": "5f989c68",
   "metadata": {},
   "outputs": [],
   "source": [
    "parameters_matrix = initial_matrix * 0.85 + bias_matrix"
   ]
  },
  {
   "cell_type": "code",
   "execution_count": 166,
   "id": "f9165a12",
   "metadata": {},
   "outputs": [
    {
     "name": "stdout",
     "output_type": "stream",
     "text": [
      "[[0.26915746 0.07238423 0.02385718 ... 0.00285909 0.0084537  0.05868659]\n",
      " [0.09979473 0.42662982 0.01357531 ... 0.00331461 0.00756046 0.03845943]\n",
      " [0.06284545 0.03446746 0.20124026 ... 0.00786981 0.01571231 0.10196243]\n",
      " ...\n",
      " [0.00196012 0.00196309 0.00195648 ... 0.29120314 0.00203117 0.00195623]\n",
      " [0.03345886 0.02843115 0.02268097 ... 0.0260906  0.1091265  0.03133207]\n",
      " [0.11530391 0.07610023 0.06453887 ... 0.00468117 0.01487769 0.22908775]]\n"
     ]
    }
   ],
   "source": [
    "print(parameters_matrix)"
   ]
  },
  {
   "cell_type": "code",
   "execution_count": 167,
   "id": "df89a271",
   "metadata": {},
   "outputs": [],
   "source": [
    "rank = np.full((77, 1), 1 / 77)"
   ]
  },
  {
   "cell_type": "code",
   "execution_count": 168,
   "id": "44f728f5",
   "metadata": {},
   "outputs": [
    {
     "name": "stdout",
     "output_type": "stream",
     "text": [
      "(77, 1)\n",
      "[[0.26915746 0.07238423 0.02385718 ... 0.00285909 0.0084537  0.05868659]\n",
      " [0.09979473 0.42662982 0.01357531 ... 0.00331461 0.00756046 0.03845943]\n",
      " [0.06284545 0.03446746 0.20124026 ... 0.00786981 0.01571231 0.10196243]\n",
      " ...\n",
      " [0.00196012 0.00196309 0.00195648 ... 0.29120314 0.00203117 0.00195623]\n",
      " [0.03345886 0.02843115 0.02268097 ... 0.0260906  0.1091265  0.03133207]\n",
      " [0.11530391 0.07610023 0.06453887 ... 0.00468117 0.01487769 0.22908775]]\n"
     ]
    }
   ],
   "source": [
    "print(rank.shape)\n",
    "print(parameters_matrix)"
   ]
  },
  {
   "cell_type": "code",
   "execution_count": 169,
   "id": "bb66b16e",
   "metadata": {},
   "outputs": [],
   "source": [
    "def fun(times, rank):\n",
    "    temp = rank\n",
    "    cache = []\n",
    "    i = 1\n",
    "    while (i <= times):\n",
    "        temp = np.dot(parameters_matrix, temp) \n",
    "        if (i % 2 == 0):\n",
    "            cache.append(temp)\n",
    "        i += 1\n",
    "    return cache"
   ]
  },
  {
   "cell_type": "code",
   "execution_count": 170,
   "id": "a855a16b",
   "metadata": {},
   "outputs": [],
   "source": [
    "ans = fun(64, rank)"
   ]
  },
  {
   "cell_type": "code",
   "execution_count": 175,
   "id": "2fa61ee5",
   "metadata": {},
   "outputs": [
    {
     "name": "stdout",
     "output_type": "stream",
     "text": [
      "32\n"
     ]
    },
    {
     "data": {
      "text/plain": [
       "array([[0.00927443],\n",
       "       [0.01180744],\n",
       "       [0.02050199],\n",
       "       [0.01114122],\n",
       "       [0.01102824],\n",
       "       [0.05506144],\n",
       "       [0.04432764],\n",
       "       [0.17817453],\n",
       "       [0.00312781],\n",
       "       [0.00712592],\n",
       "       [0.0049716 ],\n",
       "       [0.00443883],\n",
       "       [0.00560637],\n",
       "       [0.0072428 ],\n",
       "       [0.00806994],\n",
       "       [0.01104936],\n",
       "       [0.00521397],\n",
       "       [0.00300135],\n",
       "       [0.00539857],\n",
       "       [0.00334825],\n",
       "       [0.00842496],\n",
       "       [0.01894636],\n",
       "       [0.00511897],\n",
       "       [0.03746813],\n",
       "       [0.00794261],\n",
       "       [0.00331042],\n",
       "       [0.00417021],\n",
       "       [0.06973776],\n",
       "       [0.00392513],\n",
       "       [0.00484024],\n",
       "       [0.00607736],\n",
       "       [0.12113669],\n",
       "       [0.02367982],\n",
       "       [0.005454  ],\n",
       "       [0.00740426],\n",
       "       [0.00333476],\n",
       "       [0.00391175],\n",
       "       [0.00546748],\n",
       "       [0.00514906],\n",
       "       [0.00398659],\n",
       "       [0.0117687 ],\n",
       "       [0.00577044],\n",
       "       [0.00720681],\n",
       "       [0.00762257],\n",
       "       [0.00371797],\n",
       "       [0.00467001],\n",
       "       [0.00281891],\n",
       "       [0.00487297],\n",
       "       [0.01216152],\n",
       "       [0.00395854],\n",
       "       [0.00529628],\n",
       "       [0.0028904 ],\n",
       "       [0.0040819 ],\n",
       "       [0.00345316],\n",
       "       [0.00287743],\n",
       "       [0.01905894],\n",
       "       [0.00338858],\n",
       "       [0.00568027],\n",
       "       [0.01399801],\n",
       "       [0.00480855],\n",
       "       [0.00493548],\n",
       "       [0.00294538],\n",
       "       [0.00359871],\n",
       "       [0.00506654],\n",
       "       [0.00360223],\n",
       "       [0.00473034],\n",
       "       [0.0047793 ],\n",
       "       [0.00510956],\n",
       "       [0.00611022],\n",
       "       [0.00477978],\n",
       "       [0.0047036 ],\n",
       "       [0.00343394],\n",
       "       [0.00354797],\n",
       "       [0.00346339],\n",
       "       [0.00363255],\n",
       "       [0.03140841],\n",
       "       [0.01465238]])"
      ]
     },
     "execution_count": 175,
     "metadata": {},
     "output_type": "execute_result"
    }
   ],
   "source": [
    "print(len(ans))\n",
    "ans[19]"
   ]
  },
  {
   "cell_type": "code",
   "execution_count": null,
   "id": "04c5b961",
   "metadata": {},
   "outputs": [],
   "source": []
  }
 ],
 "metadata": {
  "kernelspec": {
   "display_name": "Python 3 (ipykernel)",
   "language": "python",
   "name": "python3"
  },
  "language_info": {
   "codemirror_mode": {
    "name": "ipython",
    "version": 3
   },
   "file_extension": ".py",
   "mimetype": "text/x-python",
   "name": "python",
   "nbconvert_exporter": "python",
   "pygments_lexer": "ipython3",
   "version": "3.9.1"
  }
 },
 "nbformat": 4,
 "nbformat_minor": 5
}
